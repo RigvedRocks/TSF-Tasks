{
 "cells": [
  {
   "cell_type": "code",
   "execution_count": 1,
   "metadata": {},
   "outputs": [],
   "source": [
    "import numpy as np\n",
    "import pandas as pd\n",
    "import matplotlib.pyplot as plt\n",
    "import seaborn as sns\n",
    "from sklearn.model_selection import train_test_split\n",
    "from sklearn.linear_model import LinearRegression\n",
    "from statsmodels.graphics import correlation\n",
    "from sklearn.metrics import r2_score\n",
    "from sklearn.metrics import mean_squared_error\n",
    "from sklearn.linear_model import Ridge\n",
    "from sklearn.ensemble import GradientBoostingRegressor\n",
    "from sklearn.model_selection import GridSearchCV\n",
    "\n",
    "%matplotlib inline"
   ]
  },
  {
   "cell_type": "code",
   "execution_count": 44,
   "metadata": {},
   "outputs": [
    {
     "data": {
      "text/html": [
       "<div>\n",
       "<style scoped>\n",
       "    .dataframe tbody tr th:only-of-type {\n",
       "        vertical-align: middle;\n",
       "    }\n",
       "\n",
       "    .dataframe tbody tr th {\n",
       "        vertical-align: top;\n",
       "    }\n",
       "\n",
       "    .dataframe thead th {\n",
       "        text-align: right;\n",
       "    }\n",
       "</style>\n",
       "<table border=\"1\" class=\"dataframe\">\n",
       "  <thead>\n",
       "    <tr style=\"text-align: right;\">\n",
       "      <th></th>\n",
       "      <th>Hours</th>\n",
       "      <th>Scores</th>\n",
       "    </tr>\n",
       "  </thead>\n",
       "  <tbody>\n",
       "    <tr>\n",
       "      <th>0</th>\n",
       "      <td>2.5</td>\n",
       "      <td>21</td>\n",
       "    </tr>\n",
       "    <tr>\n",
       "      <th>1</th>\n",
       "      <td>5.1</td>\n",
       "      <td>47</td>\n",
       "    </tr>\n",
       "    <tr>\n",
       "      <th>2</th>\n",
       "      <td>3.2</td>\n",
       "      <td>27</td>\n",
       "    </tr>\n",
       "    <tr>\n",
       "      <th>3</th>\n",
       "      <td>8.5</td>\n",
       "      <td>75</td>\n",
       "    </tr>\n",
       "    <tr>\n",
       "      <th>4</th>\n",
       "      <td>3.5</td>\n",
       "      <td>30</td>\n",
       "    </tr>\n",
       "    <tr>\n",
       "      <th>5</th>\n",
       "      <td>1.5</td>\n",
       "      <td>20</td>\n",
       "    </tr>\n",
       "    <tr>\n",
       "      <th>6</th>\n",
       "      <td>9.2</td>\n",
       "      <td>88</td>\n",
       "    </tr>\n",
       "    <tr>\n",
       "      <th>7</th>\n",
       "      <td>5.5</td>\n",
       "      <td>60</td>\n",
       "    </tr>\n",
       "    <tr>\n",
       "      <th>8</th>\n",
       "      <td>8.3</td>\n",
       "      <td>81</td>\n",
       "    </tr>\n",
       "    <tr>\n",
       "      <th>9</th>\n",
       "      <td>2.7</td>\n",
       "      <td>25</td>\n",
       "    </tr>\n",
       "    <tr>\n",
       "      <th>10</th>\n",
       "      <td>7.7</td>\n",
       "      <td>85</td>\n",
       "    </tr>\n",
       "    <tr>\n",
       "      <th>11</th>\n",
       "      <td>5.9</td>\n",
       "      <td>62</td>\n",
       "    </tr>\n",
       "    <tr>\n",
       "      <th>12</th>\n",
       "      <td>4.5</td>\n",
       "      <td>41</td>\n",
       "    </tr>\n",
       "    <tr>\n",
       "      <th>13</th>\n",
       "      <td>3.3</td>\n",
       "      <td>42</td>\n",
       "    </tr>\n",
       "    <tr>\n",
       "      <th>14</th>\n",
       "      <td>1.1</td>\n",
       "      <td>17</td>\n",
       "    </tr>\n",
       "    <tr>\n",
       "      <th>15</th>\n",
       "      <td>8.9</td>\n",
       "      <td>95</td>\n",
       "    </tr>\n",
       "    <tr>\n",
       "      <th>16</th>\n",
       "      <td>2.5</td>\n",
       "      <td>30</td>\n",
       "    </tr>\n",
       "    <tr>\n",
       "      <th>17</th>\n",
       "      <td>1.9</td>\n",
       "      <td>24</td>\n",
       "    </tr>\n",
       "    <tr>\n",
       "      <th>18</th>\n",
       "      <td>6.1</td>\n",
       "      <td>67</td>\n",
       "    </tr>\n",
       "    <tr>\n",
       "      <th>19</th>\n",
       "      <td>7.4</td>\n",
       "      <td>69</td>\n",
       "    </tr>\n",
       "    <tr>\n",
       "      <th>20</th>\n",
       "      <td>2.7</td>\n",
       "      <td>30</td>\n",
       "    </tr>\n",
       "    <tr>\n",
       "      <th>21</th>\n",
       "      <td>4.8</td>\n",
       "      <td>54</td>\n",
       "    </tr>\n",
       "    <tr>\n",
       "      <th>22</th>\n",
       "      <td>3.8</td>\n",
       "      <td>35</td>\n",
       "    </tr>\n",
       "    <tr>\n",
       "      <th>23</th>\n",
       "      <td>6.9</td>\n",
       "      <td>76</td>\n",
       "    </tr>\n",
       "    <tr>\n",
       "      <th>24</th>\n",
       "      <td>7.8</td>\n",
       "      <td>86</td>\n",
       "    </tr>\n",
       "  </tbody>\n",
       "</table>\n",
       "</div>"
      ],
      "text/plain": [
       "    Hours  Scores\n",
       "0     2.5      21\n",
       "1     5.1      47\n",
       "2     3.2      27\n",
       "3     8.5      75\n",
       "4     3.5      30\n",
       "5     1.5      20\n",
       "6     9.2      88\n",
       "7     5.5      60\n",
       "8     8.3      81\n",
       "9     2.7      25\n",
       "10    7.7      85\n",
       "11    5.9      62\n",
       "12    4.5      41\n",
       "13    3.3      42\n",
       "14    1.1      17\n",
       "15    8.9      95\n",
       "16    2.5      30\n",
       "17    1.9      24\n",
       "18    6.1      67\n",
       "19    7.4      69\n",
       "20    2.7      30\n",
       "21    4.8      54\n",
       "22    3.8      35\n",
       "23    6.9      76\n",
       "24    7.8      86"
      ]
     },
     "execution_count": 44,
     "metadata": {},
     "output_type": "execute_result"
    }
   ],
   "source": [
    "df = pd.read_csv('http://bit.ly/w-data')\n",
    "df"
   ]
  },
  {
   "cell_type": "markdown",
   "metadata": {},
   "source": [
    "Visualizing the data"
   ]
  },
  {
   "cell_type": "code",
   "execution_count": 45,
   "metadata": {},
   "outputs": [
    {
     "data": {
      "image/png": "[encoded data removed]",
      "text/plain": [
       "<Figure size 432x288 with 1 Axes>"
      ]
     },
     "metadata": {
      "needs_background": "light"
     },
     "output_type": "display_data"
    }
   ],
   "source": [
    "plt.scatter(df['Hours'],df['Scores'],color = 'green')\n",
    "plt.xlabel('Hours Studied')\n",
    "plt.ylabel('Scores obtained')\n",
    "plt.show()"
   ]
  },
  {
   "cell_type": "code",
   "execution_count": 46,
   "metadata": {},
   "outputs": [
    {
     "data": {
      "image/png": "[encoded data removed]",
      "text/plain": [
       "<Figure size 432x288 with 2 Axes>"
      ]
     },
     "metadata": {
      "needs_background": "light"
     },
     "output_type": "display_data"
    }
   ],
   "source": [
    "fig = correlation.plot_corr(df.corr(),xnames = df.columns,ynames = df.columns)\n",
    "plt.show(fig)"
   ]
  },
  {
   "cell_type": "code",
   "execution_count": 47,
   "metadata": {},
   "outputs": [
    {
     "data": {
      "text/html": [
       "<div>\n",
       "<style scoped>\n",
       "    .dataframe tbody tr th:only-of-type {\n",
       "        vertical-align: middle;\n",
       "    }\n",
       "\n",
       "    .dataframe tbody tr th {\n",
       "        vertical-align: top;\n",
       "    }\n",
       "\n",
       "    .dataframe thead th {\n",
       "        text-align: right;\n",
       "    }\n",
       "</style>\n",
       "<table border=\"1\" class=\"dataframe\">\n",
       "  <thead>\n",
       "    <tr style=\"text-align: right;\">\n",
       "      <th></th>\n",
       "      <th>Hours</th>\n",
       "      <th>Scores</th>\n",
       "    </tr>\n",
       "  </thead>\n",
       "  <tbody>\n",
       "    <tr>\n",
       "      <th>Hours</th>\n",
       "      <td>1.000000</td>\n",
       "      <td>0.976191</td>\n",
       "    </tr>\n",
       "    <tr>\n",
       "      <th>Scores</th>\n",
       "      <td>0.976191</td>\n",
       "      <td>1.000000</td>\n",
       "    </tr>\n",
       "  </tbody>\n",
       "</table>\n",
       "</div>"
      ],
      "text/plain": [
       "           Hours    Scores\n",
       "Hours   1.000000  0.976191\n",
       "Scores  0.976191  1.000000"
      ]
     },
     "execution_count": 47,
     "metadata": {},
     "output_type": "execute_result"
    }
   ],
   "source": [
    "df.corr(method = 'pearson')"
   ]
  },
  {
   "cell_type": "code",
   "execution_count": 48,
   "metadata": {},
   "outputs": [],
   "source": [
    "X = df.iloc[:,0].values\n",
    "y = df.iloc[:,1].values"
   ]
  },
  {
   "cell_type": "code",
   "execution_count": 49,
   "metadata": {},
   "outputs": [],
   "source": [
    "X_train,X_test,y_train,y_test = train_test_split(X,y,test_size = 0.2)"
   ]
  },
  {
   "cell_type": "code",
   "execution_count": 77,
   "metadata": {},
   "outputs": [
    {
     "data": {
      "text/plain": [
       "LinearRegression(copy_X=True, fit_intercept=True, n_jobs=None, normalize=False)"
      ]
     },
     "execution_count": 77,
     "metadata": {},
     "output_type": "execute_result"
    }
   ],
   "source": [
    "lr = LinearRegression()\n",
    "lr.fit(X_train.reshape(-1,1),y_train)"
   ]
  },
  {
   "cell_type": "code",
   "execution_count": 78,
   "metadata": {},
   "outputs": [
    {
     "name": "stdout",
     "output_type": "stream",
     "text": [
      "Intercept -  2.138438931036845\n",
      "Coefficient of x -  [9.79991115]\n"
     ]
    }
   ],
   "source": [
    "print('Intercept - ',lr.intercept_)\n",
    "print(\"Coefficient of x - \",lr.coef_)\n"
   ]
  },
  {
   "cell_type": "code",
   "execution_count": 79,
   "metadata": {},
   "outputs": [
    {
     "name": "stdout",
     "output_type": "stream",
     "text": [
      "R^2 Score -  0.9499676441650258\n",
      "Root Mean Squared Error -  5.89155728004674\n"
     ]
    }
   ],
   "source": [
    "y_pred = lr.predict(X_test.reshape(-1,1))\n",
    "score = r2_score(y_test,y_pred)\n",
    "rmse = mean_squared_error(y_test,y_pred,squared = False)\n",
    "print(\"R^2 Score - \",score)\n",
    "print(\"Root Mean Squared Error - \",rmse)"
   ]
  },
  {
   "cell_type": "code",
   "execution_count": 53,
   "metadata": {},
   "outputs": [
    {
     "data": {
      "image/png": "[encoded data removed]",
      "text/plain": [
       "<Figure size 432x288 with 1 Axes>"
      ]
     },
     "metadata": {
      "needs_background": "light"
     },
     "output_type": "display_data"
    }
   ],
   "source": [
    "plt.scatter(X_test,y_test,color = 'blue')\n",
    "plt.plot(X_test,y_pred,color = 'red')\n",
    "plt.xlabel('No. of hours studied')\n",
    "plt.ylabel('No. of marks obtained')\n",
    "plt.show()"
   ]
  },
  {
   "cell_type": "markdown",
   "metadata": {},
   "source": [
    "Ridge Regression"
   ]
  },
  {
   "cell_type": "code",
   "execution_count": 54,
   "metadata": {},
   "outputs": [
    {
     "data": {
      "text/plain": [
       "Ridge(alpha=1.0, copy_X=True, fit_intercept=True, max_iter=None,\n",
       "      normalize=False, random_state=None, solver='auto', tol=0.001)"
      ]
     },
     "execution_count": 54,
     "metadata": {},
     "output_type": "execute_result"
    }
   ],
   "source": [
    "ridgeReg = Ridge()\n",
    "ridgeReg.fit(X_train.reshape(-1,1),y_train)"
   ]
  },
  {
   "cell_type": "code",
   "execution_count": 55,
   "metadata": {},
   "outputs": [
    {
     "name": "stdout",
     "output_type": "stream",
     "text": [
      "dict_keys(['alpha', 'copy_X', 'fit_intercept', 'max_iter', 'normalize', 'random_state', 'solver', 'tol'])\n"
     ]
    }
   ],
   "source": [
    "from pprint import pprint\n",
    "pprint(ridgeReg.get_params().keys())"
   ]
  },
  {
   "cell_type": "code",
   "execution_count": 56,
   "metadata": {},
   "outputs": [
    {
     "data": {
      "text/plain": [
       "GridSearchCV(cv=None, error_score=nan,\n",
       "             estimator=Ridge(alpha=1.0, copy_X=True, fit_intercept=True,\n",
       "                             max_iter=None, normalize=False, random_state=None,\n",
       "                             solver='auto', tol=0.001),\n",
       "             iid='deprecated', n_jobs=-1,\n",
       "             param_grid={'alpha': [0.1, 0.5, 0.01, 0.05, 5, 10]},\n",
       "             pre_dispatch='2*n_jobs', refit=True, return_train_score=False,\n",
       "             scoring=None, verbose=0)"
      ]
     },
     "execution_count": 56,
     "metadata": {},
     "output_type": "execute_result"
    }
   ],
   "source": [
    "parameters = {\n",
    "    'alpha': [0.1,0.5,0.01,0.05,5,10]\n",
    "}\n",
    "rr = GridSearchCV(ridgeReg,parameters,n_jobs = -1)\n",
    "rr.fit(X_train.reshape(-1,1),y_train)"
   ]
  },
  {
   "cell_type": "code",
   "execution_count": 57,
   "metadata": {},
   "outputs": [
    {
     "name": "stdout",
     "output_type": "stream",
     "text": [
      "R^2 Score -  0.9490502713434048\n",
      "Root Mean Squared Error -  5.945324528804083\n"
     ]
    }
   ],
   "source": [
    "pred = rr.predict(X_test.reshape(-1,1))\n",
    "score = r2_score(y_test,pred)\n",
    "rmse = mean_squared_error(y_test,pred,squared = False)\n",
    "print(\"R^2 Score - \",score)\n",
    "print(\"Root Mean Squared Error - \",rmse)"
   ]
  },
  {
   "cell_type": "code",
   "execution_count": 58,
   "metadata": {},
   "outputs": [
    {
     "data": {
      "image/png": "[encoded data removed]",
      "text/plain": [
       "<Figure size 432x288 with 1 Axes>"
      ]
     },
     "metadata": {
      "needs_background": "light"
     },
     "output_type": "display_data"
    }
   ],
   "source": [
    "sns.scatterplot(X_test,y_test)\n",
    "sns.regplot(X_test,pred)\n",
    "plt.xlabel('No.of hours studied')\n",
    "plt.ylabel('No. of marks obtained')\n",
    "plt.show()"
   ]
  },
  {
   "cell_type": "code",
   "execution_count": null,
   "metadata": {},
   "outputs": [],
   "source": [
    "Using an ensemble method GradientBoostingRegressor"
   ]
  },
  {
   "cell_type": "code",
   "execution_count": 59,
   "metadata": {},
   "outputs": [],
   "source": [
    "gbr = GradientBoostingRegressor()"
   ]
  },
  {
   "cell_type": "code",
   "execution_count": 60,
   "metadata": {},
   "outputs": [
    {
     "data": {
      "text/plain": [
       "GradientBoostingRegressor(alpha=0.9, ccp_alpha=0.0, criterion='friedman_mse',\n",
       "                          init=None, learning_rate=0.1, loss='ls', max_depth=3,\n",
       "                          max_features=None, max_leaf_nodes=None,\n",
       "                          min_impurity_decrease=0.0, min_impurity_split=None,\n",
       "                          min_samples_leaf=1, min_samples_split=2,\n",
       "                          min_weight_fraction_leaf=0.0, n_estimators=100,\n",
       "                          n_iter_no_change=None, presort='deprecated',\n",
       "                          random_state=None, subsample=1.0, tol=0.0001,\n",
       "                          validation_fraction=0.1, verbose=0, warm_start=False)"
      ]
     },
     "execution_count": 60,
     "metadata": {},
     "output_type": "execute_result"
    }
   ],
   "source": [
    "gbr.fit(X_train.reshape(-1,1),y_train)"
   ]
  },
  {
   "cell_type": "code",
   "execution_count": 61,
   "metadata": {},
   "outputs": [
    {
     "name": "stdout",
     "output_type": "stream",
     "text": [
      "R^2 Score -  0.9112226553042695\n",
      "Root Mean Squared Error -  7.8479405359692915\n"
     ]
    }
   ],
   "source": [
    "#Without Hyperparameter Tuning\n",
    "prediction = gbr.predict(X_test.reshape(-1,1))\n",
    "score = r2_score(y_test,prediction)\n",
    "rmse = mean_squared_error(y_test,prediction,squared = False)\n",
    "print(\"R^2 Score - \",score)\n",
    "print(\"Root Mean Squared Error - \",rmse)"
   ]
  },
  {
   "cell_type": "code",
   "execution_count": 62,
   "metadata": {},
   "outputs": [
    {
     "data": {
      "image/png": "[encoded data removed]",
      "text/plain": [
       "<Figure size 432x288 with 1 Axes>"
      ]
     },
     "metadata": {
      "needs_background": "light"
     },
     "output_type": "display_data"
    }
   ],
   "source": [
    "sns.scatterplot(X_test,y_test)\n",
    "sns.regplot(X_test,prediction)\n",
    "plt.xlabel('No.of hours studied')\n",
    "plt.ylabel('No. of marks obtained')\n",
    "plt.show()"
   ]
  },
  {
   "cell_type": "code",
   "execution_count": null,
   "metadata": {},
   "outputs": [],
   "source": [
    "Regression using Neural Networks"
   ]
  },
  {
   "cell_type": "code",
   "execution_count": 63,
   "metadata": {},
   "outputs": [],
   "source": [
    "import warnings\n",
    "warnings.filterwarnings(\"ignore\",category = FutureWarning)\n",
    "from tensorflow.keras.models import Sequential\n",
    "from tensorflow.keras.layers import Dense"
   ]
  },
  {
   "cell_type": "code",
   "execution_count": 64,
   "metadata": {},
   "outputs": [
    {
     "name": "stdout",
     "output_type": "stream",
     "text": [
      "Model: \"sequential_8\"\n",
      "_________________________________________________________________\n",
      "Layer (type)                 Output Shape              Param #   \n",
      "=================================================================\n",
      "dense_18 (Dense)             (None, 4096)              8192      \n",
      "_________________________________________________________________\n",
      "dense_19 (Dense)             (None, 4096)              16781312  \n",
      "_________________________________________________________________\n",
      "dense_20 (Dense)             (None, 1)                 4097      \n",
      "=================================================================\n",
      "Total params: 16,793,601\n",
      "Trainable params: 16,793,601\n",
      "Non-trainable params: 0\n",
      "_________________________________________________________________\n"
     ]
    }
   ],
   "source": [
    "model = Sequential()\n",
    "model.add(Dense(4096,kernel_initializer = 'normal',input_dim = 1,activation = 'relu'))\n",
    "model.add(Dense(4096,kernel_initializer = 'normal',activation = 'relu'))\n",
    "model.add(Dense(1,activation = 'linear'))\n",
    "    \n",
    "model.compile(loss = 'mean_squared_error',optimizer = 'adam',metrics = ['mean_absolute_error'])\n",
    "model.summary() "
   ]
  },
  {
   "cell_type": "code",
   "execution_count": 65,
   "metadata": {},
   "outputs": [
    {
     "name": "stdout",
     "output_type": "stream",
     "text": [
      "Epoch 1/100\n",
      "20/20 [==============================] - 2s 122ms/sample - loss: 3122.1055 - mean_absolute_error: 50.3667\n",
      "Epoch 2/100\n",
      "20/20 [==============================] - 1s 31ms/sample - loss: 1478.0022 - mean_absolute_error: 34.5904\n",
      "Epoch 3/100\n",
      "20/20 [==============================] - 0s 22ms/sample - loss: 605.1060 - mean_absolute_error: 21.9478\n",
      "Epoch 4/100\n",
      "20/20 [==============================] - 0s 25ms/sample - loss: 144.5656 - mean_absolute_error: 10.0388\n",
      "Epoch 5/100\n",
      "20/20 [==============================] - 0s 17ms/sample - loss: 33.2428 - mean_absolute_error: 4.8685\n",
      "Epoch 6/100\n",
      "20/20 [==============================] - 0s 16ms/sample - loss: 216.1122 - mean_absolute_error: 12.3502\n",
      "Epoch 7/100\n",
      "20/20 [==============================] - 0s 16ms/sample - loss: 443.3257 - mean_absolute_error: 18.1681\n",
      "Epoch 8/100\n",
      "20/20 [==============================] - 0s 16ms/sample - loss: 510.4401 - mean_absolute_error: 19.5529\n",
      "Epoch 9/100\n",
      "20/20 [==============================] - 0s 12ms/sample - loss: 422.5207 - mean_absolute_error: 17.6893\n",
      "Epoch 10/100\n",
      "20/20 [==============================] - 0s 14ms/sample - loss: 270.3242 - mean_absolute_error: 13.9088\n",
      "Epoch 11/100\n",
      "20/20 [==============================] - 0s 12ms/sample - loss: 133.1478 - mean_absolute_error: 9.4730\n",
      "Epoch 12/100\n",
      "20/20 [==============================] - 0s 13ms/sample - loss: 50.7899 - mean_absolute_error: 5.3662\n",
      "Epoch 13/100\n",
      "20/20 [==============================] - 0s 13ms/sample - loss: 28.4851 - mean_absolute_error: 5.0195\n",
      "Epoch 14/100\n",
      "20/20 [==============================] - 0s 14ms/sample - loss: 49.7359 - mean_absolute_error: 5.6647\n",
      "Epoch 15/100\n",
      "20/20 [==============================] - 0s 11ms/sample - loss: 90.7977 - mean_absolute_error: 7.6829\n",
      "Epoch 16/100\n",
      "20/20 [==============================] - 0s 12ms/sample - loss: 131.2178 - mean_absolute_error: 9.5567\n",
      "Epoch 17/100\n",
      "20/20 [==============================] - 0s 12ms/sample - loss: 157.9265 - mean_absolute_error: 10.6771\n",
      "Epoch 18/100\n",
      "20/20 [==============================] - 0s 11ms/sample - loss: 165.2915 - mean_absolute_error: 10.9670\n",
      "Epoch 19/100\n",
      "20/20 [==============================] - 0s 12ms/sample - loss: 153.6739 - mean_absolute_error: 10.5124\n",
      "Epoch 20/100\n",
      "20/20 [==============================] - 0s 12ms/sample - loss: 127.9299 - mean_absolute_error: 9.4195\n",
      "Epoch 21/100\n",
      "20/20 [==============================] - 0s 11ms/sample - loss: 95.1229 - mean_absolute_error: 7.9015\n",
      "Epoch 22/100\n",
      "20/20 [==============================] - 0s 12ms/sample - loss: 63.3478 - mean_absolute_error: 6.3309\n",
      "Epoch 23/100\n",
      "20/20 [==============================] - 0s 14ms/sample - loss: 39.7612 - mean_absolute_error: 5.3872\n",
      "Epoch 24/100\n",
      "20/20 [==============================] - 0s 12ms/sample - loss: 29.0379 - mean_absolute_error: 5.0506\n",
      "Epoch 25/100\n",
      "20/20 [==============================] - 0s 12ms/sample - loss: 31.9264 - mean_absolute_error: 4.8928\n",
      "Epoch 26/100\n",
      "20/20 [==============================] - 0s 12ms/sample - loss: 44.6478 - mean_absolute_error: 5.1659\n",
      "Epoch 27/100\n",
      "20/20 [==============================] - 0s 12ms/sample - loss: 60.0747 - mean_absolute_error: 5.9676\n",
      "Epoch 28/100\n",
      "20/20 [==============================] - 0s 12ms/sample - loss: 70.7724 - mean_absolute_error: 6.6058\n",
      "Epoch 29/100\n",
      "20/20 [==============================] - 0s 13ms/sample - loss: 72.5989 - mean_absolute_error: 6.7129\n",
      "Epoch 30/100\n",
      "20/20 [==============================] - 0s 11ms/sample - loss: 65.6367 - mean_absolute_error: 6.2923\n",
      "Epoch 31/100\n",
      "20/20 [==============================] - 0s 13ms/sample - loss: 53.4689 - mean_absolute_error: 5.5435\n",
      "Epoch 32/100\n",
      "20/20 [==============================] - 0s 11ms/sample - loss: 40.9663 - mean_absolute_error: 5.0665\n",
      "Epoch 33/100\n",
      "20/20 [==============================] - 0s 12ms/sample - loss: 32.0763 - mean_absolute_error: 4.8918\n",
      "Epoch 34/100\n",
      "20/20 [==============================] - 0s 11ms/sample - loss: 28.6339 - mean_absolute_error: 4.9946\n",
      "Epoch 35/100\n",
      "20/20 [==============================] - 0s 13ms/sample - loss: 30.1788 - mean_absolute_error: 5.0872\n",
      "Epoch 36/100\n",
      "20/20 [==============================] - 0s 11ms/sample - loss: 34.6859 - mean_absolute_error: 5.2001\n",
      "Epoch 37/100\n",
      "20/20 [==============================] - 0s 14ms/sample - loss: 39.6483 - mean_absolute_error: 5.3824\n",
      "Epoch 38/100\n",
      "20/20 [==============================] - 0s 11ms/sample - loss: 43.0205 - mean_absolute_error: 5.4831\n",
      "Epoch 39/100\n",
      "20/20 [==============================] - 0s 11ms/sample - loss: 43.7036 - mean_absolute_error: 5.5021\n",
      "Epoch 40/100\n",
      "20/20 [==============================] - 0s 12ms/sample - loss: 41.6898 - mean_absolute_error: 5.4451\n",
      "Epoch 41/100\n",
      "20/20 [==============================] - 0s 12ms/sample - loss: 37.8583 - mean_absolute_error: 5.3230\n",
      "Epoch 42/100\n",
      "20/20 [==============================] - 0s 13ms/sample - loss: 33.5727 - mean_absolute_error: 5.1508\n",
      "Epoch 43/100\n",
      "20/20 [==============================] - 0s 15ms/sample - loss: 30.1915 - mean_absolute_error: 5.0866\n",
      "Epoch 44/100\n",
      "20/20 [==============================] - 0s 11ms/sample - loss: 28.6141 - mean_absolute_error: 5.0233\n",
      "Epoch 45/100\n",
      "20/20 [==============================] - 0s 12ms/sample - loss: 28.9949 - mean_absolute_error: 4.9632\n",
      "Epoch 46/100\n",
      "20/20 [==============================] - 0s 13ms/sample - loss: 30.7293 - mean_absolute_error: 4.9125\n",
      "Epoch 47/100\n",
      "20/20 [==============================] - 0s 10ms/sample - loss: 32.7477 - mean_absolute_error: 4.8850\n",
      "Epoch 48/100\n",
      "20/20 [==============================] - 0s 13ms/sample - loss: 34.0229 - mean_absolute_error: 4.8976\n",
      "Epoch 49/100\n",
      "20/20 [==============================] - 0s 13ms/sample - loss: 34.0170 - mean_absolute_error: 4.8972\n",
      "Epoch 50/100\n",
      "20/20 [==============================] - 0s 11ms/sample - loss: 32.8380 - mean_absolute_error: 4.8850\n",
      "Epoch 51/100\n",
      "20/20 [==============================] - 0s 12ms/sample - loss: 31.0810 - mean_absolute_error: 4.9024\n",
      "Epoch 52/100\n",
      "20/20 [==============================] - 0s 12ms/sample - loss: 29.4832 - mean_absolute_error: 4.9399\n",
      "Epoch 53/100\n",
      "20/20 [==============================] - 0s 13ms/sample - loss: 28.5835 - mean_absolute_error: 4.9807\n",
      "Epoch 54/100\n",
      "20/20 [==============================] - 0s 11ms/sample - loss: 28.5366 - mean_absolute_error: 5.0198\n",
      "Epoch 55/100\n",
      "20/20 [==============================] - 0s 11ms/sample - loss: 29.1256 - mean_absolute_error: 5.0530\n",
      "Epoch 56/100\n",
      "20/20 [==============================] - 0s 11ms/sample - loss: 29.9247 - mean_absolute_error: 5.0772\n",
      "Epoch 57/100\n",
      "20/20 [==============================] - 0s 13ms/sample - loss: 30.5094 - mean_absolute_error: 5.0907\n",
      "Epoch 58/100\n",
      "20/20 [==============================] - 0s 12ms/sample - loss: 30.6248 - mean_absolute_error: 5.0929\n",
      "Epoch 59/100\n",
      "20/20 [==============================] - 0s 12ms/sample - loss: 30.2546 - mean_absolute_error: 5.0844\n",
      "Epoch 60/100\n",
      "20/20 [==============================] - 0s 12ms/sample - loss: 29.5875 - mean_absolute_error: 5.0671\n",
      "Epoch 61/100\n",
      "20/20 [==============================] - 0s 12ms/sample - loss: 28.9082 - mean_absolute_error: 5.0435\n",
      "Epoch 62/100\n",
      "20/20 [==============================] - 0s 11ms/sample - loss: 28.4668 - mean_absolute_error: 5.0166\n",
      "Epoch 63/100\n",
      "20/20 [==============================] - 0s 12ms/sample - loss: 28.3773 - mean_absolute_error: 4.9898\n",
      "Epoch 64/100\n",
      "20/20 [==============================] - 0s 12ms/sample - loss: 28.5862 - mean_absolute_error: 4.9662\n",
      "Epoch 65/100\n",
      "20/20 [==============================] - 0s 14ms/sample - loss: 28.9176 - mean_absolute_error: 4.9484\n",
      "Epoch 66/100\n",
      "20/20 [==============================] - 0s 11ms/sample - loss: 29.1699 - mean_absolute_error: 4.9379\n",
      "Epoch 67/100\n",
      "20/20 [==============================] - 0s 13ms/sample - loss: 29.2124 - mean_absolute_error: 4.9356\n",
      "Epoch 68/100\n",
      "20/20 [==============================] - 0s 10ms/sample - loss: 29.0358 - mean_absolute_error: 4.9408\n",
      "Epoch 69/100\n",
      "20/20 [==============================] - 0s 14ms/sample - loss: 28.7369 - mean_absolute_error: 4.9522\n",
      "Epoch 70/100\n",
      "20/20 [==============================] - 0s 11ms/sample - loss: 28.4543 - mean_absolute_error: 4.9677\n",
      "Epoch 71/100\n",
      "20/20 [==============================] - 0s 12ms/sample - loss: 28.2961 - mean_absolute_error: 4.9849\n",
      "Epoch 72/100\n",
      "20/20 [==============================] - 0s 11ms/sample - loss: 28.2940 - mean_absolute_error: 5.0013\n",
      "Epoch 73/100\n",
      "20/20 [==============================] - 0s 12ms/sample - loss: 28.4026 - mean_absolute_error: 5.0148\n",
      "Epoch 74/100\n",
      "20/20 [==============================] - 0s 13ms/sample - loss: 28.5342 - mean_absolute_error: 5.0241\n",
      "Epoch 75/100\n",
      "20/20 [==============================] - 0s 12ms/sample - loss: 28.6074 - mean_absolute_error: 5.0281\n",
      "Epoch 76/100\n",
      "20/20 [==============================] - 0s 13ms/sample - loss: 28.5836 - mean_absolute_error: 5.0268\n",
      "Epoch 77/100\n",
      "20/20 [==============================] - 0s 10ms/sample - loss: 28.4775 - mean_absolute_error: 5.0207\n",
      "Epoch 78/100\n",
      "20/20 [==============================] - 0s 12ms/sample - loss: 28.3412 - mean_absolute_error: 5.0110\n",
      "Epoch 79/100\n",
      "20/20 [==============================] - 0s 12ms/sample - loss: 28.2337 - mean_absolute_error: 4.9991\n",
      "Epoch 80/100\n",
      "20/20 [==============================] - 0s 11ms/sample - loss: 28.1907 - mean_absolute_error: 4.9867\n",
      "Epoch 81/100\n",
      "20/20 [==============================] - 0s 12ms/sample - loss: 28.2114 - mean_absolute_error: 4.9755\n",
      "Epoch 82/100\n",
      "20/20 [==============================] - 0s 13ms/sample - loss: 28.2638 - mean_absolute_error: 4.9667\n",
      "Epoch 83/100\n",
      "20/20 [==============================] - 0s 11ms/sample - loss: 28.3060 - mean_absolute_error: 4.9614\n",
      "Epoch 84/100\n",
      "20/20 [==============================] - 0s 11ms/sample - loss: 28.3089 - mean_absolute_error: 4.9597\n",
      "Epoch 85/100\n",
      "20/20 [==============================] - 0s 14ms/sample - loss: 28.2687 - mean_absolute_error: 4.9617\n",
      "Epoch 86/100\n",
      "20/20 [==============================] - 0s 14ms/sample - loss: 28.2051 - mean_absolute_error: 4.9665\n",
      "Epoch 87/100\n",
      "20/20 [==============================] - 0s 12ms/sample - loss: 28.1466 - mean_absolute_error: 4.9733\n",
      "Epoch 88/100\n",
      "20/20 [==============================] - 0s 13ms/sample - loss: 28.1145 - mean_absolute_error: 4.9806\n",
      "Epoch 89/100\n",
      "20/20 [==============================] - 0s 11ms/sample - loss: 28.1129 - mean_absolute_error: 4.9875\n",
      "Epoch 90/100\n",
      "20/20 [==============================] - 0s 13ms/sample - loss: 28.1298 - mean_absolute_error: 4.9928\n",
      "Epoch 91/100\n",
      "20/20 [==============================] - 0s 13ms/sample - loss: 28.1458 - mean_absolute_error: 4.9959\n",
      "Epoch 92/100\n",
      "20/20 [==============================] - 0s 12ms/sample - loss: 28.1458 - mean_absolute_error: 4.9964\n",
      "Epoch 93/100\n",
      "20/20 [==============================] - 0s 13ms/sample - loss: 28.1261 - mean_absolute_error: 4.9945\n",
      "Epoch 94/100\n",
      "20/20 [==============================] - 0s 11ms/sample - loss: 28.0940 - mean_absolute_error: 4.9905\n",
      "Epoch 95/100\n",
      "20/20 [==============================] - 0s 14ms/sample - loss: 28.0625 - mean_absolute_error: 4.9851\n",
      "Epoch 96/100\n",
      "20/20 [==============================] - 0s 12ms/sample - loss: 28.0424 - mean_absolute_error: 4.9791\n",
      "Epoch 97/100\n",
      "20/20 [==============================] - 0s 11ms/sample - loss: 28.0363 - mean_absolute_error: 4.9734\n",
      "Epoch 98/100\n",
      "20/20 [==============================] - 0s 13ms/sample - loss: 28.0393 - mean_absolute_error: 4.9688\n",
      "Epoch 99/100\n",
      "20/20 [==============================] - 0s 13ms/sample - loss: 28.0423 - mean_absolute_error: 4.9656\n",
      "Epoch 100/100\n",
      "20/20 [==============================] - 0s 12ms/sample - loss: 28.0380 - mean_absolute_error: 4.9643\n"
     ]
    },
    {
     "data": {
      "text/plain": [
       "<tensorflow.python.keras.callbacks.History at 0x41fba40d08>"
      ]
     },
     "execution_count": 65,
     "metadata": {},
     "output_type": "execute_result"
    }
   ],
   "source": [
    "model.fit(X_train,y_train,epochs = 100,batch_size = 50)"
   ]
  },
  {
   "cell_type": "code",
   "execution_count": 66,
   "metadata": {},
   "outputs": [
    {
     "name": "stdout",
     "output_type": "stream",
     "text": [
      "5/5 [==============================] - 0s 89ms/sample - loss: 36.1410 - mean_absolute_error: 5.6817\n",
      "Test loss, Test mean absolute accuracy [36.140953063964844, 5.681677]\n"
     ]
    }
   ],
   "source": [
    "results = model.evaluate(X_test,y_test,batch_size = 5)\n",
    "print('Test loss, Test mean absolute accuracy',results)"
   ]
  },
  {
   "cell_type": "code",
   "execution_count": 67,
   "metadata": {},
   "outputs": [],
   "source": [
    "result = model.predict(X_test)"
   ]
  },
  {
   "cell_type": "code",
   "execution_count": 68,
   "metadata": {},
   "outputs": [
    {
     "data": {
      "image/png": "[encoded data removed]",
      "text/plain": [
       "<Figure size 432x288 with 1 Axes>"
      ]
     },
     "metadata": {
      "needs_background": "light"
     },
     "output_type": "display_data"
    }
   ],
   "source": [
    "sns.scatterplot(X_test,y_test)\n",
    "sns.regplot(X_test,result)\n",
    "plt.xlabel('No. of hours studied')\n",
    "plt.ylabel('No. of marks obtained')\n",
    "plt.show()"
   ]
  },
  {
   "cell_type": "code",
   "execution_count": 69,
   "metadata": {},
   "outputs": [
    {
     "name": "stdout",
     "output_type": "stream",
     "text": [
      "R^2 Score  0.9479056576956145\n",
      "Root Mean Squared Error -  6.011736098423687\n"
     ]
    }
   ],
   "source": [
    "print(\"R^2 Score \",r2_score(y_test,result))\n",
    "print(\"Root Mean Squared Error - \",mean_squared_error(y_test,result,squared = False))"
   ]
  },
  {
   "cell_type": "markdown",
   "metadata": {},
   "source": [
    "Predicting the score of a student if he/she puts in 9.25 hours of study in a day?  "
   ]
  },
  {
   "cell_type": "raw",
   "metadata": {},
   "source": [
    "Linear Regression"
   ]
  },
  {
   "cell_type": "code",
   "execution_count": 80,
   "metadata": {},
   "outputs": [
    {
     "name": "stdout",
     "output_type": "stream",
     "text": [
      "The amount of marks a student if he/she studies for 9.25 hours a day is  [92.78761705]\n"
     ]
    }
   ],
   "source": [
    "print(\"The amount of marks a student if he/she studies for 9.25 hours a day is \",lr.predict([[9.25]]))"
   ]
  },
  {
   "cell_type": "markdown",
   "metadata": {},
   "source": [
    "Ridge Regression"
   ]
  },
  {
   "cell_type": "code",
   "execution_count": 74,
   "metadata": {},
   "outputs": [
    {
     "name": "stdout",
     "output_type": "stream",
     "text": [
      "The amount of marks a student if he/she studies for 9.25 hours a day is  [91.05724797]\n"
     ]
    }
   ],
   "source": [
    "print(\"The amount of marks a student if he/she studies for 9.25 hours a day is \",rr.predict([[9.25]]))"
   ]
  },
  {
   "cell_type": "markdown",
   "metadata": {},
   "source": [
    "Gradient Boosting Regressor"
   ]
  },
  {
   "cell_type": "code",
   "execution_count": 75,
   "metadata": {},
   "outputs": [
    {
     "name": "stdout",
     "output_type": "stream",
     "text": [
      "The amount of marks a student if he/she studies for 9.25 hours a day is  [94.98834343]\n"
     ]
    }
   ],
   "source": [
    "print(\"The amount of marks a student if he/she studies for 9.25 hours a day is \",gbr.predict([[9.25]]))"
   ]
  },
  {
   "cell_type": "markdown",
   "metadata": {},
   "source": [
    "Neural Network"
   ]
  },
  {
   "cell_type": "code",
   "execution_count": 81,
   "metadata": {},
   "outputs": [
    {
     "name": "stdout",
     "output_type": "stream",
     "text": [
      "The amount of marks a student if he/she studies for 9.25 hours a day is  [[93.91803]]\n"
     ]
    }
   ],
   "source": [
    "print(\"The amount of marks a student if he/she studies for 9.25 hours a day is \",model.predict([9.25]))"
   ]
  },
  {
   "cell_type": "code",
   "execution_count": null,
   "metadata": {},
   "outputs": [],
   "source": []
  }
 ],
 "metadata": {
  "kernelspec": {
   "display_name": "Python 3",
   "language": "python",
   "name": "python3"
  },
  "language_info": {
   "codemirror_mode": {
    "name": "ipython",
    "version": 3
   },
   "file_extension": ".py",
   "mimetype": "text/x-python",
   "name": "python",
   "nbconvert_exporter": "python",
   "pygments_lexer": "ipython3",
   "version": "3.7.6"
  }
 },
 "nbformat": 4,
 "nbformat_minor": 4
}
