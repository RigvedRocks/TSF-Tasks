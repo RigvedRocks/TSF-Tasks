{
 "cells": [
  {
   "cell_type": "code",
   "execution_count": 40,
   "metadata": {},
   "outputs": [],
   "source": [
    "import numpy as np\n",
    "import pandas as pd\n",
    "import matplotlib.pyplot as plt\n",
    "from sklearn.model_selection import train_test_split\n",
    "from sklearn.preprocessing import MinMaxScaler\n",
    "from sklearn.metrics import roc_auc_score\n",
    "from sklearn.metrics import classification_report\n",
    "from sklearn.preprocessing import OneHotEncoder\n",
    "from sklearn.ensemble import RandomForestClassifier\n",
    "from sklearn.tree import DecisionTreeClassifier\n",
    "from sklearn.svm import SVC\n",
    "from sklearn.multiclass import OneVsRestClassifier\n",
    "from sklearn.metrics import accuracy_score\n",
    "from sklearn.preprocessing import LabelEncoder\n",
    "import warnings\n",
    "warnings.filterwarnings(\"ignore\",category = FutureWarning)\n",
    "\n",
    "%matplotlib inline"
   ]
  },
  {
   "cell_type": "markdown",
   "metadata": {},
   "source": [
    "Importing the dataset"
   ]
  },
  {
   "cell_type": "code",
   "execution_count": 41,
   "metadata": {},
   "outputs": [],
   "source": [
    "iris = pd.read_csv('Iris.csv')"
   ]
  },
  {
   "cell_type": "code",
   "execution_count": 42,
   "metadata": {},
   "outputs": [
    {
     "data": {
      "text/html": [
       "<div>\n",
       "<style scoped>\n",
       "    .dataframe tbody tr th:only-of-type {\n",
       "        vertical-align: middle;\n",
       "    }\n",
       "\n",
       "    .dataframe tbody tr th {\n",
       "        vertical-align: top;\n",
       "    }\n",
       "\n",
       "    .dataframe thead th {\n",
       "        text-align: right;\n",
       "    }\n",
       "</style>\n",
       "<table border=\"1\" class=\"dataframe\">\n",
       "  <thead>\n",
       "    <tr style=\"text-align: right;\">\n",
       "      <th></th>\n",
       "      <th>Id</th>\n",
       "      <th>SepalLengthCm</th>\n",
       "      <th>SepalWidthCm</th>\n",
       "      <th>PetalLengthCm</th>\n",
       "      <th>PetalWidthCm</th>\n",
       "      <th>Species</th>\n",
       "    </tr>\n",
       "  </thead>\n",
       "  <tbody>\n",
       "    <tr>\n",
       "      <th>0</th>\n",
       "      <td>1</td>\n",
       "      <td>5.1</td>\n",
       "      <td>3.5</td>\n",
       "      <td>1.4</td>\n",
       "      <td>0.2</td>\n",
       "      <td>Iris-setosa</td>\n",
       "    </tr>\n",
       "    <tr>\n",
       "      <th>1</th>\n",
       "      <td>2</td>\n",
       "      <td>4.9</td>\n",
       "      <td>3.0</td>\n",
       "      <td>1.4</td>\n",
       "      <td>0.2</td>\n",
       "      <td>Iris-setosa</td>\n",
       "    </tr>\n",
       "    <tr>\n",
       "      <th>2</th>\n",
       "      <td>3</td>\n",
       "      <td>4.7</td>\n",
       "      <td>3.2</td>\n",
       "      <td>1.3</td>\n",
       "      <td>0.2</td>\n",
       "      <td>Iris-setosa</td>\n",
       "    </tr>\n",
       "    <tr>\n",
       "      <th>3</th>\n",
       "      <td>4</td>\n",
       "      <td>4.6</td>\n",
       "      <td>3.1</td>\n",
       "      <td>1.5</td>\n",
       "      <td>0.2</td>\n",
       "      <td>Iris-setosa</td>\n",
       "    </tr>\n",
       "    <tr>\n",
       "      <th>4</th>\n",
       "      <td>5</td>\n",
       "      <td>5.0</td>\n",
       "      <td>3.6</td>\n",
       "      <td>1.4</td>\n",
       "      <td>0.2</td>\n",
       "      <td>Iris-setosa</td>\n",
       "    </tr>\n",
       "  </tbody>\n",
       "</table>\n",
       "</div>"
      ],
      "text/plain": [
       "   Id  SepalLengthCm  SepalWidthCm  PetalLengthCm  PetalWidthCm      Species\n",
       "0   1            5.1           3.5            1.4           0.2  Iris-setosa\n",
       "1   2            4.9           3.0            1.4           0.2  Iris-setosa\n",
       "2   3            4.7           3.2            1.3           0.2  Iris-setosa\n",
       "3   4            4.6           3.1            1.5           0.2  Iris-setosa\n",
       "4   5            5.0           3.6            1.4           0.2  Iris-setosa"
      ]
     },
     "execution_count": 42,
     "metadata": {},
     "output_type": "execute_result"
    }
   ],
   "source": [
    "iris.head(5)"
   ]
  },
  {
   "cell_type": "code",
   "execution_count": 43,
   "metadata": {},
   "outputs": [
    {
     "data": {
      "text/html": [
       "<div>\n",
       "<style scoped>\n",
       "    .dataframe tbody tr th:only-of-type {\n",
       "        vertical-align: middle;\n",
       "    }\n",
       "\n",
       "    .dataframe tbody tr th {\n",
       "        vertical-align: top;\n",
       "    }\n",
       "\n",
       "    .dataframe thead th {\n",
       "        text-align: right;\n",
       "    }\n",
       "</style>\n",
       "<table border=\"1\" class=\"dataframe\">\n",
       "  <thead>\n",
       "    <tr style=\"text-align: right;\">\n",
       "      <th></th>\n",
       "      <th>Id</th>\n",
       "      <th>SepalLengthCm</th>\n",
       "      <th>SepalWidthCm</th>\n",
       "      <th>PetalLengthCm</th>\n",
       "      <th>PetalWidthCm</th>\n",
       "    </tr>\n",
       "  </thead>\n",
       "  <tbody>\n",
       "    <tr>\n",
       "      <th>count</th>\n",
       "      <td>150.000000</td>\n",
       "      <td>150.000000</td>\n",
       "      <td>150.000000</td>\n",
       "      <td>150.000000</td>\n",
       "      <td>150.000000</td>\n",
       "    </tr>\n",
       "    <tr>\n",
       "      <th>mean</th>\n",
       "      <td>75.500000</td>\n",
       "      <td>5.843333</td>\n",
       "      <td>3.054000</td>\n",
       "      <td>3.758667</td>\n",
       "      <td>1.198667</td>\n",
       "    </tr>\n",
       "    <tr>\n",
       "      <th>std</th>\n",
       "      <td>43.445368</td>\n",
       "      <td>0.828066</td>\n",
       "      <td>0.433594</td>\n",
       "      <td>1.764420</td>\n",
       "      <td>0.763161</td>\n",
       "    </tr>\n",
       "    <tr>\n",
       "      <th>min</th>\n",
       "      <td>1.000000</td>\n",
       "      <td>4.300000</td>\n",
       "      <td>2.000000</td>\n",
       "      <td>1.000000</td>\n",
       "      <td>0.100000</td>\n",
       "    </tr>\n",
       "    <tr>\n",
       "      <th>25%</th>\n",
       "      <td>38.250000</td>\n",
       "      <td>5.100000</td>\n",
       "      <td>2.800000</td>\n",
       "      <td>1.600000</td>\n",
       "      <td>0.300000</td>\n",
       "    </tr>\n",
       "    <tr>\n",
       "      <th>50%</th>\n",
       "      <td>75.500000</td>\n",
       "      <td>5.800000</td>\n",
       "      <td>3.000000</td>\n",
       "      <td>4.350000</td>\n",
       "      <td>1.300000</td>\n",
       "    </tr>\n",
       "    <tr>\n",
       "      <th>75%</th>\n",
       "      <td>112.750000</td>\n",
       "      <td>6.400000</td>\n",
       "      <td>3.300000</td>\n",
       "      <td>5.100000</td>\n",
       "      <td>1.800000</td>\n",
       "    </tr>\n",
       "    <tr>\n",
       "      <th>max</th>\n",
       "      <td>150.000000</td>\n",
       "      <td>7.900000</td>\n",
       "      <td>4.400000</td>\n",
       "      <td>6.900000</td>\n",
       "      <td>2.500000</td>\n",
       "    </tr>\n",
       "  </tbody>\n",
       "</table>\n",
       "</div>"
      ],
      "text/plain": [
       "               Id  SepalLengthCm  SepalWidthCm  PetalLengthCm  PetalWidthCm\n",
       "count  150.000000     150.000000    150.000000     150.000000    150.000000\n",
       "mean    75.500000       5.843333      3.054000       3.758667      1.198667\n",
       "std     43.445368       0.828066      0.433594       1.764420      0.763161\n",
       "min      1.000000       4.300000      2.000000       1.000000      0.100000\n",
       "25%     38.250000       5.100000      2.800000       1.600000      0.300000\n",
       "50%     75.500000       5.800000      3.000000       4.350000      1.300000\n",
       "75%    112.750000       6.400000      3.300000       5.100000      1.800000\n",
       "max    150.000000       7.900000      4.400000       6.900000      2.500000"
      ]
     },
     "execution_count": 43,
     "metadata": {},
     "output_type": "execute_result"
    }
   ],
   "source": [
    "iris.describe()"
   ]
  },
  {
   "cell_type": "code",
   "execution_count": 96,
   "metadata": {},
   "outputs": [],
   "source": [
    "X = iris.iloc[:,1:5].values\n",
    "y = iris.iloc[:,5].values"
   ]
  },
  {
   "cell_type": "code",
   "execution_count": 97,
   "metadata": {},
   "outputs": [
    {
     "data": {
      "text/plain": [
       "(150, 4)"
      ]
     },
     "execution_count": 97,
     "metadata": {},
     "output_type": "execute_result"
    }
   ],
   "source": [
    "X.shape"
   ]
  },
  {
   "cell_type": "code",
   "execution_count": 98,
   "metadata": {},
   "outputs": [],
   "source": [
    "onehot_encoder = OneHotEncoder(sparse=False)\n",
    "reshaped = y.reshape(len(y),1)\n",
    "y_onehot = onehot_encoder.fit_transform(reshaped)"
   ]
  },
  {
   "cell_type": "code",
   "execution_count": 99,
   "metadata": {},
   "outputs": [
    {
     "name": "stdout",
     "output_type": "stream",
     "text": [
      "(150,)\n",
      "(150, 3)\n"
     ]
    }
   ],
   "source": [
    "print(y.shape)\n",
    "print(y_onehot.shape)"
   ]
  },
  {
   "cell_type": "markdown",
   "metadata": {},
   "source": [
    "Splitting the data into train set and test set"
   ]
  },
  {
   "cell_type": "code",
   "execution_count": 100,
   "metadata": {},
   "outputs": [],
   "source": [
    "X_train,X_test,y_train,y_test = train_test_split(X,y_onehot,test_size = 0.2)"
   ]
  },
  {
   "cell_type": "code",
   "execution_count": 101,
   "metadata": {},
   "outputs": [
    {
     "name": "stdout",
     "output_type": "stream",
     "text": [
      "(120, 4)\n"
     ]
    }
   ],
   "source": [
    "print(X_train.shape)"
   ]
  },
  {
   "cell_type": "code",
   "execution_count": 102,
   "metadata": {},
   "outputs": [
    {
     "name": "stdout",
     "output_type": "stream",
     "text": [
      "(30, 4)\n"
     ]
    }
   ],
   "source": [
    "print(X_test.shape)"
   ]
  },
  {
   "cell_type": "code",
   "execution_count": 103,
   "metadata": {},
   "outputs": [
    {
     "name": "stdout",
     "output_type": "stream",
     "text": [
      "(120, 3)\n"
     ]
    }
   ],
   "source": [
    "print(y_train.shape)"
   ]
  },
  {
   "cell_type": "code",
   "execution_count": 104,
   "metadata": {},
   "outputs": [
    {
     "name": "stdout",
     "output_type": "stream",
     "text": [
      "(30, 3)\n"
     ]
    }
   ],
   "source": [
    "print(y_test.shape)"
   ]
  },
  {
   "cell_type": "code",
   "execution_count": 105,
   "metadata": {},
   "outputs": [],
   "source": [
    "mnmx = MinMaxScaler()\n",
    "X_train = mnmx.fit_transform(X_train)\n",
    "X_test = mnmx.transform(X_test)"
   ]
  },
  {
   "cell_type": "markdown",
   "metadata": {},
   "source": [
    "Decision Tree Classifier"
   ]
  },
  {
   "cell_type": "code",
   "execution_count": 106,
   "metadata": {},
   "outputs": [
    {
     "data": {
      "text/plain": [
       "DecisionTreeClassifier(ccp_alpha=0.0, class_weight=None, criterion='entropy',\n",
       "                       max_depth=None, max_features=None, max_leaf_nodes=None,\n",
       "                       min_impurity_decrease=0.0, min_impurity_split=None,\n",
       "                       min_samples_leaf=1, min_samples_split=2,\n",
       "                       min_weight_fraction_leaf=0.0, presort='deprecated',\n",
       "                       random_state=None, splitter='best')"
      ]
     },
     "execution_count": 106,
     "metadata": {},
     "output_type": "execute_result"
    }
   ],
   "source": [
    "dtree = DecisionTreeClassifier(criterion='entropy')\n",
    "dtree.fit(X_train,y_train)"
   ]
  },
  {
   "cell_type": "code",
   "execution_count": 107,
   "metadata": {},
   "outputs": [],
   "source": [
    "dtree_pred = dtree.predict(X_test)"
   ]
  },
  {
   "cell_type": "code",
   "execution_count": 108,
   "metadata": {},
   "outputs": [
    {
     "name": "stdout",
     "output_type": "stream",
     "text": [
      "AUC Score  0.9708333333333333\n",
      "Accuracy Score  0.9666666666666667\n"
     ]
    }
   ],
   "source": [
    "print(\"AUC Score \", roc_auc_score(y_test,dtree_pred))\n",
    "print(\"Accuracy Score \", accuracy_score(y_test,dtree_pred))"
   ]
  },
  {
   "cell_type": "code",
   "execution_count": 109,
   "metadata": {},
   "outputs": [
    {
     "name": "stdout",
     "output_type": "stream",
     "text": [
      "              precision    recall  f1-score   support\n",
      "\n",
      "     class 0       1.00      1.00      1.00        12\n",
      "     class 1       1.00      0.88      0.93         8\n",
      "     class 2       0.91      1.00      0.95        10\n",
      "\n",
      "   micro avg       0.97      0.97      0.97        30\n",
      "   macro avg       0.97      0.96      0.96        30\n",
      "weighted avg       0.97      0.97      0.97        30\n",
      " samples avg       0.97      0.97      0.97        30\n",
      "\n"
     ]
    }
   ],
   "source": [
    "target_names = ['class 0','class 1','class 2']\n",
    "print(classification_report(y_test,dtree_pred,target_names = target_names))"
   ]
  },
  {
   "cell_type": "markdown",
   "metadata": {},
   "source": [
    "Random Forest Classifier"
   ]
  },
  {
   "cell_type": "code",
   "execution_count": 110,
   "metadata": {},
   "outputs": [
    {
     "data": {
      "text/plain": [
       "RandomForestClassifier(bootstrap=True, ccp_alpha=0.0, class_weight=None,\n",
       "                       criterion='entropy', max_depth=None, max_features='auto',\n",
       "                       max_leaf_nodes=None, max_samples=None,\n",
       "                       min_impurity_decrease=0.0, min_impurity_split=None,\n",
       "                       min_samples_leaf=1, min_samples_split=2,\n",
       "                       min_weight_fraction_leaf=0.0, n_estimators=10,\n",
       "                       n_jobs=None, oob_score=False, random_state=None,\n",
       "                       verbose=0, warm_start=False)"
      ]
     },
     "execution_count": 110,
     "metadata": {},
     "output_type": "execute_result"
    }
   ],
   "source": [
    "rtree  = RandomForestClassifier(n_estimators = 10,criterion = 'entropy')\n",
    "rtree.fit(X_train,y_train)"
   ]
  },
  {
   "cell_type": "code",
   "execution_count": 111,
   "metadata": {},
   "outputs": [],
   "source": [
    "rtree_pred = rtree.predict(X_test)"
   ]
  },
  {
   "cell_type": "code",
   "execution_count": 112,
   "metadata": {},
   "outputs": [
    {
     "name": "stdout",
     "output_type": "stream",
     "text": [
      "AUC Score  0.9833333333333334\n",
      "Accuracy Score  0.9666666666666667\n"
     ]
    }
   ],
   "source": [
    "print(\"AUC Score \",  roc_auc_score(y_test,rtree_pred))\n",
    "print(\"Accuracy Score \",  accuracy_score(y_test,rtree_pred))"
   ]
  },
  {
   "cell_type": "code",
   "execution_count": 113,
   "metadata": {},
   "outputs": [
    {
     "name": "stdout",
     "output_type": "stream",
     "text": [
      "              precision    recall  f1-score   support\n",
      "\n",
      "     class 0       1.00      1.00      1.00        12\n",
      "     class 1       1.00      1.00      1.00         8\n",
      "     class 2       1.00      0.90      0.95        10\n",
      "\n",
      "   micro avg       1.00      0.97      0.98        30\n",
      "   macro avg       1.00      0.97      0.98        30\n",
      "weighted avg       1.00      0.97      0.98        30\n",
      " samples avg       0.97      0.97      0.97        30\n",
      "\n"
     ]
    },
    {
     "name": "stderr",
     "output_type": "stream",
     "text": [
      "C:\\Users\\Rajesh\\anaconda3\\lib\\site-packages\\sklearn\\metrics\\_classification.py:1272: UndefinedMetricWarning: Precision and F-score are ill-defined and being set to 0.0 in samples with no predicted labels. Use `zero_division` parameter to control this behavior.\n",
      "  _warn_prf(average, modifier, msg_start, len(result))\n"
     ]
    }
   ],
   "source": [
    "print(classification_report(y_test,rtree_pred,target_names=target_names))"
   ]
  },
  {
   "cell_type": "markdown",
   "metadata": {},
   "source": [
    "Support Vector Machines"
   ]
  },
  {
   "cell_type": "code",
   "execution_count": 114,
   "metadata": {},
   "outputs": [],
   "source": [
    "clf = OneVsRestClassifier(SVC()).fit(X_train,y_train)"
   ]
  },
  {
   "cell_type": "code",
   "execution_count": 115,
   "metadata": {},
   "outputs": [],
   "source": [
    "clf_pred  = clf.predict(X_test)"
   ]
  },
  {
   "cell_type": "code",
   "execution_count": 116,
   "metadata": {},
   "outputs": [
    {
     "name": "stdout",
     "output_type": "stream",
     "text": [
      "AUC Score  0.9757575757575757\n",
      "Accuracy Score  0.9666666666666667\n"
     ]
    }
   ],
   "source": [
    "print(\"AUC Score \",roc_auc_score(y_test,clf_pred))\n",
    "print(\"Accuracy Score \",accuracy_score(y_test,clf_pred))"
   ]
  },
  {
   "cell_type": "code",
   "execution_count": 118,
   "metadata": {},
   "outputs": [
    {
     "name": "stdout",
     "output_type": "stream",
     "text": [
      "              precision    recall  f1-score   support\n",
      "\n",
      "     class 0       1.00      1.00      1.00        12\n",
      "     class 1       0.89      1.00      0.94         8\n",
      "     class 2       1.00      0.90      0.95        10\n",
      "\n",
      "   micro avg       0.97      0.97      0.97        30\n",
      "   macro avg       0.96      0.97      0.96        30\n",
      "weighted avg       0.97      0.97      0.97        30\n",
      " samples avg       0.97      0.97      0.97        30\n",
      "\n"
     ]
    }
   ],
   "source": [
    "print(classification_report(y_test,clf_pred,target_names = target_names))"
   ]
  },
  {
   "cell_type": "markdown",
   "metadata": {},
   "source": [
    "MultiLayer Perceptron"
   ]
  },
  {
   "cell_type": "code",
   "execution_count": 119,
   "metadata": {},
   "outputs": [],
   "source": [
    "from tensorflow.keras.models import Sequential\n",
    "from tensorflow.keras.layers import Dense"
   ]
  },
  {
   "cell_type": "code",
   "execution_count": 120,
   "metadata": {},
   "outputs": [],
   "source": [
    "model = Sequential([\n",
    "    Dense(1024,activation='relu',input_dim = X_train.shape[1]),\n",
    "    Dense(1024,activation='relu'),\n",
    "    Dense(3,activation='softmax')\n",
    "])\n",
    "model.compile(loss='categorical_crossentropy',optimizer = 'adam',metrics=['accuracy'])"
   ]
  },
  {
   "cell_type": "code",
   "execution_count": 121,
   "metadata": {},
   "outputs": [
    {
     "name": "stdout",
     "output_type": "stream",
     "text": [
      "Epoch 1/200\n",
      "120/120 [==============================] - 1s 5ms/sample - loss: 1.0012 - acc: 0.4750\n",
      "Epoch 2/200\n",
      "120/120 [==============================] - 0s 2ms/sample - loss: 0.7730 - acc: 0.6417\n",
      "Epoch 3/200\n",
      "120/120 [==============================] - 0s 3ms/sample - loss: 0.6005 - acc: 0.6500\n",
      "Epoch 4/200\n",
      "120/120 [==============================] - 0s 2ms/sample - loss: 0.4968 - acc: 0.7250\n",
      "Epoch 5/200\n",
      "120/120 [==============================] - 0s 1ms/sample - loss: 0.4416 - acc: 0.7500\n",
      "Epoch 6/200\n",
      "120/120 [==============================] - 0s 1ms/sample - loss: 0.4045 - acc: 0.8667\n",
      "Epoch 7/200\n",
      "120/120 [==============================] - 0s 1ms/sample - loss: 0.3759 - acc: 0.8167\n",
      "Epoch 8/200\n",
      "120/120 [==============================] - 0s 1ms/sample - loss: 0.3365 - acc: 0.8750\n",
      "Epoch 9/200\n",
      "120/120 [==============================] - 0s 1ms/sample - loss: 0.2979 - acc: 0.9000\n",
      "Epoch 10/200\n",
      "120/120 [==============================] - 0s 1ms/sample - loss: 0.2801 - acc: 0.9167\n",
      "Epoch 11/200\n",
      "120/120 [==============================] - 0s 1ms/sample - loss: 0.2667 - acc: 0.8833\n",
      "Epoch 12/200\n",
      "120/120 [==============================] - 0s 1ms/sample - loss: 0.1973 - acc: 0.9333\n",
      "Epoch 13/200\n",
      "120/120 [==============================] - 0s 1ms/sample - loss: 0.1995 - acc: 0.9250\n",
      "Epoch 14/200\n",
      "120/120 [==============================] - 0s 915us/sample - loss: 0.1705 - acc: 0.9417\n",
      "Epoch 15/200\n",
      "120/120 [==============================] - 0s 1ms/sample - loss: 0.1467 - acc: 0.9500\n",
      "Epoch 16/200\n",
      "120/120 [==============================] - 0s 897us/sample - loss: 0.1538 - acc: 0.9500\n",
      "Epoch 17/200\n",
      "120/120 [==============================] - 0s 777us/sample - loss: 0.1544 - acc: 0.9500\n",
      "Epoch 18/200\n",
      "120/120 [==============================] - 0s 719us/sample - loss: 0.1454 - acc: 0.9667\n",
      "Epoch 19/200\n",
      "120/120 [==============================] - 0s 981us/sample - loss: 0.1231 - acc: 0.9500\n",
      "Epoch 20/200\n",
      "120/120 [==============================] - 0s 939us/sample - loss: 0.1145 - acc: 0.9667\n",
      "Epoch 21/200\n",
      "120/120 [==============================] - 0s 1ms/sample - loss: 0.1181 - acc: 0.9583\n",
      "Epoch 22/200\n",
      "120/120 [==============================] - 0s 806us/sample - loss: 0.1138 - acc: 0.9750\n",
      "Epoch 23/200\n",
      "120/120 [==============================] - 0s 831us/sample - loss: 0.1125 - acc: 0.9583\n",
      "Epoch 24/200\n",
      "120/120 [==============================] - 0s 902us/sample - loss: 0.1052 - acc: 0.9500\n",
      "Epoch 25/200\n",
      "120/120 [==============================] - 0s 804us/sample - loss: 0.1023 - acc: 0.9583\n",
      "Epoch 26/200\n",
      "120/120 [==============================] - 0s 708us/sample - loss: 0.0952 - acc: 0.9500\n",
      "Epoch 27/200\n",
      "120/120 [==============================] - 0s 697us/sample - loss: 0.0756 - acc: 0.9667\n",
      "Epoch 28/200\n",
      "120/120 [==============================] - 0s 649us/sample - loss: 0.1047 - acc: 0.9583\n",
      "Epoch 29/200\n",
      "120/120 [==============================] - 0s 676us/sample - loss: 0.0856 - acc: 0.9500\n",
      "Epoch 30/200\n",
      "120/120 [==============================] - 0s 734us/sample - loss: 0.0722 - acc: 0.9750\n",
      "Epoch 31/200\n",
      "120/120 [==============================] - 0s 734us/sample - loss: 0.0791 - acc: 0.9750\n",
      "Epoch 32/200\n",
      "120/120 [==============================] - 0s 760us/sample - loss: 0.0752 - acc: 0.9500\n",
      "Epoch 33/200\n",
      "120/120 [==============================] - 0s 901us/sample - loss: 0.0670 - acc: 0.9750\n",
      "Epoch 34/200\n",
      "120/120 [==============================] - 0s 728us/sample - loss: 0.0721 - acc: 0.9833\n",
      "Epoch 35/200\n",
      "120/120 [==============================] - 0s 609us/sample - loss: 0.0701 - acc: 0.9500\n",
      "Epoch 36/200\n",
      "120/120 [==============================] - 0s 656us/sample - loss: 0.0657 - acc: 0.9750\n",
      "Epoch 37/200\n",
      "120/120 [==============================] - 0s 774us/sample - loss: 0.0675 - acc: 0.9833\n",
      "Epoch 38/200\n",
      "120/120 [==============================] - 0s 613us/sample - loss: 0.1175 - acc: 0.9500\n",
      "Epoch 39/200\n",
      "120/120 [==============================] - 0s 603us/sample - loss: 0.0646 - acc: 0.9833\n",
      "Epoch 40/200\n",
      "120/120 [==============================] - 0s 598us/sample - loss: 0.0869 - acc: 0.9583\n",
      "Epoch 41/200\n",
      "120/120 [==============================] - 0s 1ms/sample - loss: 0.0773 - acc: 0.9500\n",
      "Epoch 42/200\n",
      "120/120 [==============================] - 0s 656us/sample - loss: 0.0630 - acc: 0.9833\n",
      "Epoch 43/200\n",
      "120/120 [==============================] - 0s 632us/sample - loss: 0.0624 - acc: 0.9833\n",
      "Epoch 44/200\n",
      "120/120 [==============================] - 0s 658us/sample - loss: 0.0630 - acc: 0.9750\n",
      "Epoch 45/200\n",
      "120/120 [==============================] - 0s 726us/sample - loss: 0.0727 - acc: 0.9500\n",
      "Epoch 46/200\n",
      "120/120 [==============================] - 0s 667us/sample - loss: 0.0576 - acc: 0.9833\n",
      "Epoch 47/200\n",
      "120/120 [==============================] - 0s 738us/sample - loss: 0.0645 - acc: 0.9667\n",
      "Epoch 48/200\n",
      "120/120 [==============================] - 0s 663us/sample - loss: 0.1026 - acc: 0.9500\n",
      "Epoch 49/200\n",
      "120/120 [==============================] - 0s 680us/sample - loss: 0.0494 - acc: 0.9833\n",
      "Epoch 50/200\n",
      "120/120 [==============================] - 0s 688us/sample - loss: 0.0900 - acc: 0.9500\n",
      "Epoch 51/200\n",
      "120/120 [==============================] - 0s 631us/sample - loss: 0.1009 - acc: 0.9583\n",
      "Epoch 52/200\n",
      "120/120 [==============================] - 0s 617us/sample - loss: 0.0607 - acc: 0.9833\n",
      "Epoch 53/200\n",
      "120/120 [==============================] - 0s 644us/sample - loss: 0.0904 - acc: 0.9500\n",
      "Epoch 54/200\n",
      "120/120 [==============================] - 0s 642us/sample - loss: 0.0526 - acc: 0.9833\n",
      "Epoch 55/200\n",
      "120/120 [==============================] - 0s 630us/sample - loss: 0.0634 - acc: 0.9750\n",
      "Epoch 56/200\n",
      "120/120 [==============================] - 0s 588us/sample - loss: 0.0618 - acc: 0.9583\n",
      "Epoch 57/200\n",
      "120/120 [==============================] - 0s 600us/sample - loss: 0.0594 - acc: 0.9667\n",
      "Epoch 58/200\n",
      "120/120 [==============================] - 0s 704us/sample - loss: 0.0602 - acc: 0.9917\n",
      "Epoch 59/200\n",
      "120/120 [==============================] - 0s 600us/sample - loss: 0.0574 - acc: 0.9667\n",
      "Epoch 60/200\n",
      "120/120 [==============================] - 0s 823us/sample - loss: 0.0563 - acc: 0.9833\n",
      "Epoch 61/200\n",
      "120/120 [==============================] - 0s 799us/sample - loss: 0.0543 - acc: 0.9750\n",
      "Epoch 62/200\n",
      "120/120 [==============================] - 0s 649us/sample - loss: 0.0598 - acc: 0.9750\n",
      "Epoch 63/200\n",
      "120/120 [==============================] - 0s 642us/sample - loss: 0.0591 - acc: 0.9750\n",
      "Epoch 64/200\n",
      "120/120 [==============================] - 0s 586us/sample - loss: 0.0572 - acc: 0.9750\n",
      "Epoch 65/200\n",
      "120/120 [==============================] - 0s 601us/sample - loss: 0.0551 - acc: 0.9833\n",
      "Epoch 66/200\n",
      "120/120 [==============================] - 0s 636us/sample - loss: 0.0599 - acc: 0.9667\n",
      "Epoch 67/200\n",
      "120/120 [==============================] - 0s 611us/sample - loss: 0.0576 - acc: 0.9750\n",
      "Epoch 68/200\n",
      "120/120 [==============================] - 0s 662us/sample - loss: 0.0673 - acc: 0.9750\n",
      "Epoch 69/200\n",
      "120/120 [==============================] - 0s 642us/sample - loss: 0.0672 - acc: 0.9667\n",
      "Epoch 70/200\n",
      "120/120 [==============================] - 0s 623us/sample - loss: 0.0592 - acc: 0.9667\n",
      "Epoch 71/200\n",
      "120/120 [==============================] - 0s 609us/sample - loss: 0.0634 - acc: 0.9750\n",
      "Epoch 72/200\n",
      "120/120 [==============================] - 0s 598us/sample - loss: 0.0652 - acc: 0.9667\n",
      "Epoch 73/200\n",
      "120/120 [==============================] - 0s 575us/sample - loss: 0.0577 - acc: 0.9833\n",
      "Epoch 74/200\n",
      "120/120 [==============================] - 0s 842us/sample - loss: 0.0657 - acc: 0.9750\n",
      "Epoch 75/200\n",
      "120/120 [==============================] - 0s 698us/sample - loss: 0.0558 - acc: 0.9667\n",
      "Epoch 76/200\n",
      "120/120 [==============================] - 0s 642us/sample - loss: 0.0526 - acc: 0.9833\n",
      "Epoch 77/200\n",
      "120/120 [==============================] - 0s 696us/sample - loss: 0.0700 - acc: 0.9750\n",
      "Epoch 78/200\n",
      "120/120 [==============================] - 0s 717us/sample - loss: 0.0736 - acc: 0.9583\n",
      "Epoch 79/200\n",
      "120/120 [==============================] - 0s 626us/sample - loss: 0.0641 - acc: 0.9667\n",
      "Epoch 80/200\n",
      "120/120 [==============================] - 0s 586us/sample - loss: 0.0572 - acc: 0.9667\n",
      "Epoch 81/200\n",
      "120/120 [==============================] - 0s 634us/sample - loss: 0.0520 - acc: 0.9750\n",
      "Epoch 82/200\n",
      "120/120 [==============================] - 0s 622us/sample - loss: 0.0555 - acc: 0.9833\n",
      "Epoch 83/200\n",
      "120/120 [==============================] - 0s 592us/sample - loss: 0.0525 - acc: 0.9833\n",
      "Epoch 84/200\n",
      "120/120 [==============================] - 0s 589us/sample - loss: 0.0525 - acc: 0.9750\n",
      "Epoch 85/200\n",
      "120/120 [==============================] - 0s 648us/sample - loss: 0.0537 - acc: 0.9917\n",
      "Epoch 86/200\n",
      "120/120 [==============================] - 0s 600us/sample - loss: 0.0603 - acc: 0.9583\n",
      "Epoch 87/200\n",
      "120/120 [==============================] - 0s 709us/sample - loss: 0.0489 - acc: 0.9667\n",
      "Epoch 88/200\n",
      "120/120 [==============================] - 0s 700us/sample - loss: 0.0624 - acc: 0.9750\n",
      "Epoch 89/200\n",
      "120/120 [==============================] - 0s 749us/sample - loss: 0.0573 - acc: 0.9833\n",
      "Epoch 90/200\n",
      "120/120 [==============================] - 0s 662us/sample - loss: 0.0702 - acc: 0.9667\n",
      "Epoch 91/200\n",
      "120/120 [==============================] - 0s 684us/sample - loss: 0.0635 - acc: 0.9667\n",
      "Epoch 92/200\n",
      "120/120 [==============================] - 0s 635us/sample - loss: 0.0530 - acc: 0.9750\n",
      "Epoch 93/200\n",
      "120/120 [==============================] - 0s 715us/sample - loss: 0.0500 - acc: 0.9833\n",
      "Epoch 94/200\n",
      "120/120 [==============================] - 0s 626us/sample - loss: 0.0498 - acc: 0.9833\n",
      "Epoch 95/200\n",
      "120/120 [==============================] - 0s 615us/sample - loss: 0.0515 - acc: 0.9833\n",
      "Epoch 96/200\n",
      "120/120 [==============================] - 0s 625us/sample - loss: 0.0480 - acc: 0.9750\n",
      "Epoch 97/200\n",
      "120/120 [==============================] - 0s 581us/sample - loss: 0.0670 - acc: 0.9750\n",
      "Epoch 98/200\n",
      "120/120 [==============================] - 0s 634us/sample - loss: 0.0517 - acc: 0.9750\n",
      "Epoch 99/200\n",
      "120/120 [==============================] - 0s 597us/sample - loss: 0.0511 - acc: 0.9750\n",
      "Epoch 100/200\n",
      "120/120 [==============================] - 0s 593us/sample - loss: 0.0480 - acc: 0.9833\n",
      "Epoch 101/200\n",
      "120/120 [==============================] - 0s 634us/sample - loss: 0.0538 - acc: 0.9750\n",
      "Epoch 102/200\n",
      "120/120 [==============================] - 0s 670us/sample - loss: 0.0471 - acc: 0.9833\n",
      "Epoch 103/200\n",
      "120/120 [==============================] - 0s 634us/sample - loss: 0.0474 - acc: 0.9750\n",
      "Epoch 104/200\n",
      "120/120 [==============================] - 0s 747us/sample - loss: 0.0474 - acc: 0.9833\n",
      "Epoch 105/200\n",
      "120/120 [==============================] - 0s 749us/sample - loss: 0.0477 - acc: 0.9833\n",
      "Epoch 106/200\n",
      "120/120 [==============================] - 0s 665us/sample - loss: 0.0471 - acc: 0.9750\n",
      "Epoch 107/200\n",
      "120/120 [==============================] - 0s 718us/sample - loss: 0.0471 - acc: 0.9750\n",
      "Epoch 108/200\n",
      "120/120 [==============================] - 0s 614us/sample - loss: 0.0484 - acc: 0.9833\n",
      "Epoch 109/200\n",
      "120/120 [==============================] - 0s 655us/sample - loss: 0.0536 - acc: 0.9833\n",
      "Epoch 110/200\n",
      "120/120 [==============================] - 0s 616us/sample - loss: 0.0469 - acc: 0.9750\n",
      "Epoch 111/200\n",
      "120/120 [==============================] - 0s 649us/sample - loss: 0.0667 - acc: 0.9667\n",
      "Epoch 112/200\n",
      "120/120 [==============================] - 0s 594us/sample - loss: 0.0832 - acc: 0.9583\n",
      "Epoch 113/200\n",
      "120/120 [==============================] - 0s 625us/sample - loss: 0.0772 - acc: 0.9667\n",
      "Epoch 114/200\n",
      "120/120 [==============================] - 0s 584us/sample - loss: 0.0739 - acc: 0.9667\n",
      "Epoch 115/200\n",
      "120/120 [==============================] - 0s 593us/sample - loss: 0.1137 - acc: 0.9583\n",
      "Epoch 116/200\n",
      "120/120 [==============================] - 0s 625us/sample - loss: 0.1097 - acc: 0.9583\n",
      "Epoch 117/200\n",
      "120/120 [==============================] - 0s 671us/sample - loss: 0.1055 - acc: 0.9583\n",
      "Epoch 118/200\n",
      "120/120 [==============================] - 0s 902us/sample - loss: 0.1404 - acc: 0.9583\n",
      "Epoch 119/200\n",
      "120/120 [==============================] - 0s 725us/sample - loss: 0.0889 - acc: 0.9583\n",
      "Epoch 120/200\n",
      "120/120 [==============================] - 0s 580us/sample - loss: 0.1100 - acc: 0.9417\n",
      "Epoch 121/200\n",
      "120/120 [==============================] - 0s 615us/sample - loss: 0.0569 - acc: 0.9833\n",
      "Epoch 122/200\n",
      "120/120 [==============================] - 0s 594us/sample - loss: 0.0532 - acc: 0.9750\n",
      "Epoch 123/200\n",
      "120/120 [==============================] - 0s 639us/sample - loss: 0.0514 - acc: 0.9833\n",
      "Epoch 124/200\n",
      "120/120 [==============================] - 0s 605us/sample - loss: 0.0480 - acc: 0.9833\n",
      "Epoch 125/200\n",
      "120/120 [==============================] - 0s 618us/sample - loss: 0.0520 - acc: 0.9750\n",
      "Epoch 126/200\n",
      "120/120 [==============================] - 0s 619us/sample - loss: 0.0457 - acc: 0.9833\n",
      "Epoch 127/200\n",
      "120/120 [==============================] - 0s 610us/sample - loss: 0.0489 - acc: 0.9833\n",
      "Epoch 128/200\n",
      "120/120 [==============================] - 0s 600us/sample - loss: 0.0508 - acc: 0.9750\n",
      "Epoch 129/200\n",
      "120/120 [==============================] - 0s 667us/sample - loss: 0.0504 - acc: 0.9750\n",
      "Epoch 130/200\n",
      "120/120 [==============================] - 0s 870us/sample - loss: 0.0503 - acc: 0.9833\n",
      "Epoch 131/200\n",
      "120/120 [==============================] - 0s 689us/sample - loss: 0.0513 - acc: 0.9750\n",
      "Epoch 132/200\n",
      "120/120 [==============================] - 0s 906us/sample - loss: 0.0488 - acc: 0.9833\n",
      "Epoch 133/200\n",
      "120/120 [==============================] - 0s 651us/sample - loss: 0.0466 - acc: 0.9833\n",
      "Epoch 134/200\n",
      "120/120 [==============================] - 0s 596us/sample - loss: 0.0499 - acc: 0.9750\n",
      "Epoch 135/200\n",
      "120/120 [==============================] - 0s 667us/sample - loss: 0.0460 - acc: 0.9833\n",
      "Epoch 136/200\n",
      "120/120 [==============================] - 0s 650us/sample - loss: 0.0432 - acc: 0.9833\n",
      "Epoch 137/200\n",
      "120/120 [==============================] - 0s 617us/sample - loss: 0.0457 - acc: 0.9833\n",
      "Epoch 138/200\n",
      "120/120 [==============================] - 0s 638us/sample - loss: 0.0451 - acc: 0.9833\n",
      "Epoch 139/200\n",
      "120/120 [==============================] - 0s 636us/sample - loss: 0.0530 - acc: 0.9750\n",
      "Epoch 140/200\n",
      "120/120 [==============================] - 0s 649us/sample - loss: 0.0440 - acc: 0.9833\n",
      "Epoch 141/200\n",
      "120/120 [==============================] - 0s 657us/sample - loss: 0.0499 - acc: 0.9833\n",
      "Epoch 142/200\n",
      "120/120 [==============================] - 0s 624us/sample - loss: 0.0723 - acc: 0.9583\n",
      "Epoch 143/200\n",
      "120/120 [==============================] - 0s 651us/sample - loss: 0.0482 - acc: 0.9750\n",
      "Epoch 144/200\n",
      "120/120 [==============================] - 0s 621us/sample - loss: 0.0612 - acc: 0.9667\n",
      "Epoch 145/200\n",
      "120/120 [==============================] - 0s 654us/sample - loss: 0.0751 - acc: 0.9667\n",
      "Epoch 146/200\n",
      "120/120 [==============================] - 0s 836us/sample - loss: 0.0539 - acc: 0.9833\n",
      "Epoch 147/200\n",
      "120/120 [==============================] - 0s 672us/sample - loss: 0.0536 - acc: 0.9750\n",
      "Epoch 148/200\n",
      "120/120 [==============================] - 0s 626us/sample - loss: 0.0721 - acc: 0.9583\n",
      "Epoch 149/200\n",
      "120/120 [==============================] - 0s 734us/sample - loss: 0.0553 - acc: 0.9750\n",
      "Epoch 150/200\n",
      "120/120 [==============================] - 0s 717us/sample - loss: 0.0782 - acc: 0.9583\n",
      "Epoch 151/200\n",
      "120/120 [==============================] - 0s 709us/sample - loss: 0.0667 - acc: 0.9667\n",
      "Epoch 152/200\n",
      "120/120 [==============================] - 0s 831us/sample - loss: 0.0452 - acc: 0.9833\n",
      "Epoch 153/200\n",
      "120/120 [==============================] - 0s 828us/sample - loss: 0.0452 - acc: 0.9750\n",
      "Epoch 154/200\n",
      "120/120 [==============================] - 0s 846us/sample - loss: 0.0448 - acc: 0.9833\n",
      "Epoch 155/200\n",
      "120/120 [==============================] - 0s 784us/sample - loss: 0.0450 - acc: 0.9833\n",
      "Epoch 156/200\n",
      "120/120 [==============================] - 0s 893us/sample - loss: 0.0475 - acc: 0.9833\n",
      "Epoch 157/200\n",
      "120/120 [==============================] - 0s 1ms/sample - loss: 0.0470 - acc: 0.9750\n",
      "Epoch 158/200\n",
      "120/120 [==============================] - 0s 1ms/sample - loss: 0.0577 - acc: 0.9750\n",
      "Epoch 159/200\n",
      "120/120 [==============================] - 0s 905us/sample - loss: 0.0416 - acc: 0.9833\n",
      "Epoch 160/200\n",
      "120/120 [==============================] - 0s 916us/sample - loss: 0.0530 - acc: 0.9667\n",
      "Epoch 161/200\n",
      "120/120 [==============================] - 0s 921us/sample - loss: 0.0469 - acc: 0.9833\n",
      "Epoch 162/200\n",
      "120/120 [==============================] - 0s 1ms/sample - loss: 0.0423 - acc: 0.9833\n",
      "Epoch 163/200\n",
      "120/120 [==============================] - 0s 1ms/sample - loss: 0.0457 - acc: 0.9750\n",
      "Epoch 164/200\n",
      "120/120 [==============================] - 0s 788us/sample - loss: 0.0428 - acc: 0.9833\n",
      "Epoch 165/200\n",
      "120/120 [==============================] - 0s 1ms/sample - loss: 0.0484 - acc: 0.9833\n",
      "Epoch 166/200\n",
      "120/120 [==============================] - 0s 1ms/sample - loss: 0.0447 - acc: 0.9750\n",
      "Epoch 167/200\n",
      "120/120 [==============================] - 0s 2ms/sample - loss: 0.0522 - acc: 0.9750\n",
      "Epoch 168/200\n",
      "120/120 [==============================] - 0s 953us/sample - loss: 0.0412 - acc: 0.9833\n",
      "Epoch 169/200\n",
      "120/120 [==============================] - 0s 878us/sample - loss: 0.0583 - acc: 0.9750\n",
      "Epoch 170/200\n",
      "120/120 [==============================] - 0s 846us/sample - loss: 0.0601 - acc: 0.9750\n",
      "Epoch 171/200\n",
      "120/120 [==============================] - 0s 889us/sample - loss: 0.0435 - acc: 0.9833\n",
      "Epoch 172/200\n",
      "120/120 [==============================] - 0s 781us/sample - loss: 0.0589 - acc: 0.9583\n",
      "Epoch 173/200\n",
      "120/120 [==============================] - 0s 850us/sample - loss: 0.0495 - acc: 0.9750\n",
      "Epoch 174/200\n",
      "120/120 [==============================] - 0s 867us/sample - loss: 0.0471 - acc: 0.9667\n",
      "Epoch 175/200\n",
      "120/120 [==============================] - 0s 873us/sample - loss: 0.0717 - acc: 0.9667\n",
      "Epoch 176/200\n",
      "120/120 [==============================] - 0s 1ms/sample - loss: 0.0545 - acc: 0.9833\n",
      "Epoch 177/200\n",
      "120/120 [==============================] - 0s 904us/sample - loss: 0.0539 - acc: 0.9750\n",
      "Epoch 178/200\n",
      "120/120 [==============================] - 0s 1ms/sample - loss: 0.0487 - acc: 0.9750\n",
      "Epoch 179/200\n",
      "120/120 [==============================] - 0s 922us/sample - loss: 0.0558 - acc: 0.9667\n",
      "Epoch 180/200\n",
      "120/120 [==============================] - 0s 810us/sample - loss: 0.0513 - acc: 0.9833\n",
      "Epoch 181/200\n",
      "120/120 [==============================] - 0s 906us/sample - loss: 0.0485 - acc: 0.9833\n",
      "Epoch 182/200\n",
      "120/120 [==============================] - 0s 953us/sample - loss: 0.0408 - acc: 0.9833\n",
      "Epoch 183/200\n",
      "120/120 [==============================] - 0s 742us/sample - loss: 0.0417 - acc: 0.9833\n",
      "Epoch 184/200\n",
      "120/120 [==============================] - 0s 850us/sample - loss: 0.0458 - acc: 0.9833\n",
      "Epoch 185/200\n",
      "120/120 [==============================] - 0s 957us/sample - loss: 0.0405 - acc: 0.9833\n",
      "Epoch 186/200\n",
      "120/120 [==============================] - 0s 1ms/sample - loss: 0.0416 - acc: 0.9833\n",
      "Epoch 187/200\n",
      "120/120 [==============================] - 0s 1ms/sample - loss: 0.0434 - acc: 0.9833\n",
      "Epoch 188/200\n",
      "120/120 [==============================] - 0s 2ms/sample - loss: 0.0453 - acc: 0.9750\n",
      "Epoch 189/200\n",
      "120/120 [==============================] - 0s 726us/sample - loss: 0.0373 - acc: 0.9833\n",
      "Epoch 190/200\n",
      "120/120 [==============================] - 0s 779us/sample - loss: 0.0486 - acc: 0.9833\n",
      "Epoch 191/200\n",
      "120/120 [==============================] - 0s 684us/sample - loss: 0.0557 - acc: 0.9583\n",
      "Epoch 192/200\n",
      "120/120 [==============================] - 0s 705us/sample - loss: 0.0412 - acc: 0.9833\n",
      "Epoch 193/200\n",
      "120/120 [==============================] - 0s 658us/sample - loss: 0.0465 - acc: 0.9833\n",
      "Epoch 194/200\n",
      "120/120 [==============================] - 0s 673us/sample - loss: 0.0487 - acc: 0.9833\n",
      "Epoch 195/200\n",
      "120/120 [==============================] - 0s 657us/sample - loss: 0.0390 - acc: 0.9833\n",
      "Epoch 196/200\n",
      "120/120 [==============================] - 0s 707us/sample - loss: 0.0435 - acc: 0.9833\n",
      "Epoch 197/200\n",
      "120/120 [==============================] - 0s 634us/sample - loss: 0.0436 - acc: 0.9833\n",
      "Epoch 198/200\n",
      "120/120 [==============================] - 0s 567us/sample - loss: 0.0422 - acc: 0.9833\n",
      "Epoch 199/200\n",
      "120/120 [==============================] - 0s 648us/sample - loss: 0.0485 - acc: 0.9833\n",
      "Epoch 200/200\n",
      "120/120 [==============================] - 0s 882us/sample - loss: 0.0444 - acc: 0.9750\n"
     ]
    },
    {
     "data": {
      "text/plain": [
       "<tensorflow.python.keras.callbacks.History at 0x3003b6fd88>"
      ]
     },
     "execution_count": 121,
     "metadata": {},
     "output_type": "execute_result"
    }
   ],
   "source": [
    "model.fit(X_train,y_train,epochs=200,batch_size = 30)"
   ]
  },
  {
   "cell_type": "code",
   "execution_count": 122,
   "metadata": {},
   "outputs": [
    {
     "name": "stdout",
     "output_type": "stream",
     "text": [
      "30/30 [==============================] - 0s 8ms/sample - loss: 0.0072 - acc: 1.0000\n"
     ]
    }
   ],
   "source": [
    "loss_accuracy = model.evaluate(X_test,y_test,batch_size = 50)"
   ]
  },
  {
   "cell_type": "code",
   "execution_count": 123,
   "metadata": {},
   "outputs": [
    {
     "name": "stdout",
     "output_type": "stream",
     "text": [
      "Accuracy  1.0\n"
     ]
    }
   ],
   "source": [
    "print(\"Accuracy \",loss_accuracy[1])"
   ]
  },
  {
   "cell_type": "code",
   "execution_count": 124,
   "metadata": {},
   "outputs": [
    {
     "name": "stdout",
     "output_type": "stream",
     "text": [
      "Loss  0.0072133527137339115\n"
     ]
    }
   ],
   "source": [
    "print(\"Loss \",loss_accuracy[0])"
   ]
  },
  {
   "cell_type": "markdown",
   "metadata": {},
   "source": [
    "Making Predictions"
   ]
  },
  {
   "cell_type": "markdown",
   "metadata": {},
   "source": [
    "Decision Tree Classifier"
   ]
  },
  {
   "cell_type": "code",
   "execution_count": 156,
   "metadata": {},
   "outputs": [
    {
     "data": {
      "text/plain": [
       "array([[0., 0., 1.]])"
      ]
     },
     "execution_count": 156,
     "metadata": {},
     "output_type": "execute_result"
    }
   ],
   "source": [
    "arr = np.array([[5.67,3.5,1.7,0.9]])\n",
    "np.resize(arr,(4,4))\n",
    "arr.shape\n",
    "dtree.predict(arr)\n"
   ]
  },
  {
   "cell_type": "markdown",
   "metadata": {},
   "source": [
    "Random Forest Classifier"
   ]
  },
  {
   "cell_type": "code",
   "execution_count": 157,
   "metadata": {},
   "outputs": [
    {
     "data": {
      "text/plain": [
       "array([[0., 0., 1.]])"
      ]
     },
     "execution_count": 157,
     "metadata": {},
     "output_type": "execute_result"
    }
   ],
   "source": [
    "rtree.predict(arr)"
   ]
  },
  {
   "cell_type": "markdown",
   "metadata": {},
   "source": [
    "Support Vector Machines"
   ]
  },
  {
   "cell_type": "code",
   "execution_count": 158,
   "metadata": {},
   "outputs": [
    {
     "data": {
      "text/plain": [
       "array([[0, 0, 0]])"
      ]
     },
     "execution_count": 158,
     "metadata": {},
     "output_type": "execute_result"
    }
   ],
   "source": [
    "clf.predict(arr)"
   ]
  },
  {
   "cell_type": "markdown",
   "metadata": {},
   "source": [
    "Multi Layer Perceptron"
   ]
  },
  {
   "cell_type": "code",
   "execution_count": 159,
   "metadata": {},
   "outputs": [
    {
     "data": {
      "text/plain": [
       "array([[3.656902e-21, 1.000000e+00, 3.483319e-23]], dtype=float32)"
      ]
     },
     "execution_count": 159,
     "metadata": {},
     "output_type": "execute_result"
    }
   ],
   "source": [
    "model.predict(arr)"
   ]
  },
  {
   "cell_type": "code",
   "execution_count": null,
   "metadata": {},
   "outputs": [],
   "source": []
  }
 ],
 "metadata": {
  "kernelspec": {
   "display_name": "Python 3",
   "language": "python",
   "name": "python3"
  },
  "language_info": {
   "codemirror_mode": {
    "name": "ipython",
    "version": 3
   },
   "file_extension": ".py",
   "mimetype": "text/x-python",
   "name": "python",
   "nbconvert_exporter": "python",
   "pygments_lexer": "ipython3",
   "version": "3.7.6"
  }
 },
 "nbformat": 4,
 "nbformat_minor": 4
}
